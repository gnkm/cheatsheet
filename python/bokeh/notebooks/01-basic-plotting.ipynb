{
 "cells": [
  {
   "cell_type": "markdown",
   "metadata": {},
   "source": [
    "# 01. Basic Plotting"
   ]
  },
  {
   "cell_type": "markdown",
   "metadata": {},
   "source": [
    "`bokeh.plotting` についてまとめる．"
   ]
  },
  {
   "cell_type": "markdown",
   "metadata": {},
   "source": [
    "## Imports and Setup\n",
    "\n",
    "- `figure()`: plot オブジェクトを作る\n",
    "- output 手段\n",
    "  - `output_file()`\n",
    "  - `output_notebook()`\n",
    "  - `output_server()`\n",
    "- 表示・保存\n",
    "  - `show()`\n",
    "  - `save()`"
   ]
  },
  {
   "cell_type": "code",
   "execution_count": 1,
   "metadata": {},
   "outputs": [],
   "source": [
    "from bokeh.io import output_notebook, show\n",
    "from bokeh.plotting import figure"
   ]
  },
  {
   "cell_type": "markdown",
   "metadata": {},
   "source": [
    "jupyter notebook 上で表示するために `output_notebook()` を実行しておく必要がある．(一度だけでよい．)\n",
    "これを実行しておけば `show()` で表示できる．"
   ]
  },
  {
   "cell_type": "code",
   "execution_count": 2,
   "metadata": {},
   "outputs": [
    {
     "data": {
      "text/html": [
       "\n",
       "    <div class=\"bk-root\">\n",
       "        <a href=\"https://bokeh.pydata.org\" target=\"_blank\" class=\"bk-logo bk-logo-small bk-logo-notebook\"></a>\n",
       "        <span id=\"1b67ebae-bfe1-48fb-98ea-ac2ca4b5c8d9\">Loading BokehJS ...</span>\n",
       "    </div>"
      ]
     },
     "metadata": {},
     "output_type": "display_data"
    },
    {
     "data": {
      "application/javascript": [
       "\n",
       "(function(root) {\n",
       "  function now() {\n",
       "    return new Date();\n",
       "  }\n",
       "\n",
       "  var force = true;\n",
       "\n",
       "  if (typeof (root._bokeh_onload_callbacks) === \"undefined\" || force === true) {\n",
       "    root._bokeh_onload_callbacks = [];\n",
       "    root._bokeh_is_loading = undefined;\n",
       "  }\n",
       "\n",
       "  var JS_MIME_TYPE = 'application/javascript';\n",
       "  var HTML_MIME_TYPE = 'text/html';\n",
       "  var EXEC_MIME_TYPE = 'application/vnd.bokehjs_exec.v0+json';\n",
       "  var CLASS_NAME = 'output_bokeh rendered_html';\n",
       "\n",
       "  /**\n",
       "   * Render data to the DOM node\n",
       "   */\n",
       "  function render(props, node) {\n",
       "    var script = document.createElement(\"script\");\n",
       "    node.appendChild(script);\n",
       "  }\n",
       "\n",
       "  /**\n",
       "   * Handle when an output is cleared or removed\n",
       "   */\n",
       "  function handleClearOutput(event, handle) {\n",
       "    var cell = handle.cell;\n",
       "\n",
       "    var id = cell.output_area._bokeh_element_id;\n",
       "    var server_id = cell.output_area._bokeh_server_id;\n",
       "    // Clean up Bokeh references\n",
       "    if (id !== undefined) {\n",
       "      Bokeh.index[id].model.document.clear();\n",
       "      delete Bokeh.index[id];\n",
       "    }\n",
       "\n",
       "    if (server_id !== undefined) {\n",
       "      // Clean up Bokeh references\n",
       "      var cmd = \"from bokeh.io.state import curstate; print(curstate().uuid_to_server['\" + server_id + \"'].get_sessions()[0].document.roots[0]._id)\";\n",
       "      cell.notebook.kernel.execute(cmd, {\n",
       "        iopub: {\n",
       "          output: function(msg) {\n",
       "            var element_id = msg.content.text.trim();\n",
       "            Bokeh.index[element_id].model.document.clear();\n",
       "            delete Bokeh.index[element_id];\n",
       "          }\n",
       "        }\n",
       "      });\n",
       "      // Destroy server and session\n",
       "      var cmd = \"import bokeh.io.notebook as ion; ion.destroy_server('\" + server_id + \"')\";\n",
       "      cell.notebook.kernel.execute(cmd);\n",
       "    }\n",
       "  }\n",
       "\n",
       "  /**\n",
       "   * Handle when a new output is added\n",
       "   */\n",
       "  function handleAddOutput(event, handle) {\n",
       "    var output_area = handle.output_area;\n",
       "    var output = handle.output;\n",
       "\n",
       "    // limit handleAddOutput to display_data with EXEC_MIME_TYPE content only\n",
       "    if ((output.output_type != \"display_data\") || (!output.data.hasOwnProperty(EXEC_MIME_TYPE))) {\n",
       "      return\n",
       "    }\n",
       "\n",
       "    var toinsert = output_area.element.find(\".\" + CLASS_NAME.split(' ')[0]);\n",
       "\n",
       "    if (output.metadata[EXEC_MIME_TYPE][\"id\"] !== undefined) {\n",
       "      toinsert[toinsert.length - 1].firstChild.textContent = output.data[JS_MIME_TYPE];\n",
       "      // store reference to embed id on output_area\n",
       "      output_area._bokeh_element_id = output.metadata[EXEC_MIME_TYPE][\"id\"];\n",
       "    }\n",
       "    if (output.metadata[EXEC_MIME_TYPE][\"server_id\"] !== undefined) {\n",
       "      var bk_div = document.createElement(\"div\");\n",
       "      bk_div.innerHTML = output.data[HTML_MIME_TYPE];\n",
       "      var script_attrs = bk_div.children[0].attributes;\n",
       "      for (var i = 0; i < script_attrs.length; i++) {\n",
       "        toinsert[toinsert.length - 1].firstChild.setAttribute(script_attrs[i].name, script_attrs[i].value);\n",
       "      }\n",
       "      // store reference to server id on output_area\n",
       "      output_area._bokeh_server_id = output.metadata[EXEC_MIME_TYPE][\"server_id\"];\n",
       "    }\n",
       "  }\n",
       "\n",
       "  function register_renderer(events, OutputArea) {\n",
       "\n",
       "    function append_mime(data, metadata, element) {\n",
       "      // create a DOM node to render to\n",
       "      var toinsert = this.create_output_subarea(\n",
       "        metadata,\n",
       "        CLASS_NAME,\n",
       "        EXEC_MIME_TYPE\n",
       "      );\n",
       "      this.keyboard_manager.register_events(toinsert);\n",
       "      // Render to node\n",
       "      var props = {data: data, metadata: metadata[EXEC_MIME_TYPE]};\n",
       "      render(props, toinsert[toinsert.length - 1]);\n",
       "      element.append(toinsert);\n",
       "      return toinsert\n",
       "    }\n",
       "\n",
       "    /* Handle when an output is cleared or removed */\n",
       "    events.on('clear_output.CodeCell', handleClearOutput);\n",
       "    events.on('delete.Cell', handleClearOutput);\n",
       "\n",
       "    /* Handle when a new output is added */\n",
       "    events.on('output_added.OutputArea', handleAddOutput);\n",
       "\n",
       "    /**\n",
       "     * Register the mime type and append_mime function with output_area\n",
       "     */\n",
       "    OutputArea.prototype.register_mime_type(EXEC_MIME_TYPE, append_mime, {\n",
       "      /* Is output safe? */\n",
       "      safe: true,\n",
       "      /* Index of renderer in `output_area.display_order` */\n",
       "      index: 0\n",
       "    });\n",
       "  }\n",
       "\n",
       "  // register the mime type if in Jupyter Notebook environment and previously unregistered\n",
       "  if (root.Jupyter !== undefined) {\n",
       "    var events = require('base/js/events');\n",
       "    var OutputArea = require('notebook/js/outputarea').OutputArea;\n",
       "\n",
       "    if (OutputArea.prototype.mime_types().indexOf(EXEC_MIME_TYPE) == -1) {\n",
       "      register_renderer(events, OutputArea);\n",
       "    }\n",
       "  }\n",
       "\n",
       "  \n",
       "  if (typeof (root._bokeh_timeout) === \"undefined\" || force === true) {\n",
       "    root._bokeh_timeout = Date.now() + 5000;\n",
       "    root._bokeh_failed_load = false;\n",
       "  }\n",
       "\n",
       "  var NB_LOAD_WARNING = {'data': {'text/html':\n",
       "     \"<div style='background-color: #fdd'>\\n\"+\n",
       "     \"<p>\\n\"+\n",
       "     \"BokehJS does not appear to have successfully loaded. If loading BokehJS from CDN, this \\n\"+\n",
       "     \"may be due to a slow or bad network connection. Possible fixes:\\n\"+\n",
       "     \"</p>\\n\"+\n",
       "     \"<ul>\\n\"+\n",
       "     \"<li>re-rerun `output_notebook()` to attempt to load from CDN again, or</li>\\n\"+\n",
       "     \"<li>use INLINE resources instead, as so:</li>\\n\"+\n",
       "     \"</ul>\\n\"+\n",
       "     \"<code>\\n\"+\n",
       "     \"from bokeh.resources import INLINE\\n\"+\n",
       "     \"output_notebook(resources=INLINE)\\n\"+\n",
       "     \"</code>\\n\"+\n",
       "     \"</div>\"}};\n",
       "\n",
       "  function display_loaded() {\n",
       "    var el = document.getElementById(\"1b67ebae-bfe1-48fb-98ea-ac2ca4b5c8d9\");\n",
       "    if (el != null) {\n",
       "      el.textContent = \"BokehJS is loading...\";\n",
       "    }\n",
       "    if (root.Bokeh !== undefined) {\n",
       "      if (el != null) {\n",
       "        el.textContent = \"BokehJS \" + root.Bokeh.version + \" successfully loaded.\";\n",
       "      }\n",
       "    } else if (Date.now() < root._bokeh_timeout) {\n",
       "      setTimeout(display_loaded, 100)\n",
       "    }\n",
       "  }\n",
       "\n",
       "\n",
       "  function run_callbacks() {\n",
       "    try {\n",
       "      root._bokeh_onload_callbacks.forEach(function(callback) { callback() });\n",
       "    }\n",
       "    finally {\n",
       "      delete root._bokeh_onload_callbacks\n",
       "    }\n",
       "    console.info(\"Bokeh: all callbacks have finished\");\n",
       "  }\n",
       "\n",
       "  function load_libs(js_urls, callback) {\n",
       "    root._bokeh_onload_callbacks.push(callback);\n",
       "    if (root._bokeh_is_loading > 0) {\n",
       "      console.log(\"Bokeh: BokehJS is being loaded, scheduling callback at\", now());\n",
       "      return null;\n",
       "    }\n",
       "    if (js_urls == null || js_urls.length === 0) {\n",
       "      run_callbacks();\n",
       "      return null;\n",
       "    }\n",
       "    console.log(\"Bokeh: BokehJS not loaded, scheduling load and callback at\", now());\n",
       "    root._bokeh_is_loading = js_urls.length;\n",
       "    for (var i = 0; i < js_urls.length; i++) {\n",
       "      var url = js_urls[i];\n",
       "      var s = document.createElement('script');\n",
       "      s.src = url;\n",
       "      s.async = false;\n",
       "      s.onreadystatechange = s.onload = function() {\n",
       "        root._bokeh_is_loading--;\n",
       "        if (root._bokeh_is_loading === 0) {\n",
       "          console.log(\"Bokeh: all BokehJS libraries loaded\");\n",
       "          run_callbacks()\n",
       "        }\n",
       "      };\n",
       "      s.onerror = function() {\n",
       "        console.warn(\"failed to load library \" + url);\n",
       "      };\n",
       "      console.log(\"Bokeh: injecting script tag for BokehJS library: \", url);\n",
       "      document.getElementsByTagName(\"head\")[0].appendChild(s);\n",
       "    }\n",
       "  };var element = document.getElementById(\"1b67ebae-bfe1-48fb-98ea-ac2ca4b5c8d9\");\n",
       "  if (element == null) {\n",
       "    console.log(\"Bokeh: ERROR: autoload.js configured with elementid '1b67ebae-bfe1-48fb-98ea-ac2ca4b5c8d9' but no matching script tag was found. \")\n",
       "    return false;\n",
       "  }\n",
       "\n",
       "  var js_urls = [\"https://cdn.pydata.org/bokeh/release/bokeh-0.12.16.min.js\", \"https://cdn.pydata.org/bokeh/release/bokeh-widgets-0.12.16.min.js\", \"https://cdn.pydata.org/bokeh/release/bokeh-tables-0.12.16.min.js\", \"https://cdn.pydata.org/bokeh/release/bokeh-gl-0.12.16.min.js\"];\n",
       "\n",
       "  var inline_js = [\n",
       "    function(Bokeh) {\n",
       "      Bokeh.set_log_level(\"info\");\n",
       "    },\n",
       "    \n",
       "    function(Bokeh) {\n",
       "      \n",
       "    },\n",
       "    function(Bokeh) {\n",
       "      console.log(\"Bokeh: injecting CSS: https://cdn.pydata.org/bokeh/release/bokeh-0.12.16.min.css\");\n",
       "      Bokeh.embed.inject_css(\"https://cdn.pydata.org/bokeh/release/bokeh-0.12.16.min.css\");\n",
       "      console.log(\"Bokeh: injecting CSS: https://cdn.pydata.org/bokeh/release/bokeh-widgets-0.12.16.min.css\");\n",
       "      Bokeh.embed.inject_css(\"https://cdn.pydata.org/bokeh/release/bokeh-widgets-0.12.16.min.css\");\n",
       "      console.log(\"Bokeh: injecting CSS: https://cdn.pydata.org/bokeh/release/bokeh-tables-0.12.16.min.css\");\n",
       "      Bokeh.embed.inject_css(\"https://cdn.pydata.org/bokeh/release/bokeh-tables-0.12.16.min.css\");\n",
       "    }\n",
       "  ];\n",
       "\n",
       "  function run_inline_js() {\n",
       "    \n",
       "    if ((root.Bokeh !== undefined) || (force === true)) {\n",
       "      for (var i = 0; i < inline_js.length; i++) {\n",
       "        inline_js[i].call(root, root.Bokeh);\n",
       "      }if (force === true) {\n",
       "        display_loaded();\n",
       "      }} else if (Date.now() < root._bokeh_timeout) {\n",
       "      setTimeout(run_inline_js, 100);\n",
       "    } else if (!root._bokeh_failed_load) {\n",
       "      console.log(\"Bokeh: BokehJS failed to load within specified timeout.\");\n",
       "      root._bokeh_failed_load = true;\n",
       "    } else if (force !== true) {\n",
       "      var cell = $(document.getElementById(\"1b67ebae-bfe1-48fb-98ea-ac2ca4b5c8d9\")).parents('.cell').data().cell;\n",
       "      cell.output_area.append_execute_result(NB_LOAD_WARNING)\n",
       "    }\n",
       "\n",
       "  }\n",
       "\n",
       "  if (root._bokeh_is_loading === 0) {\n",
       "    console.log(\"Bokeh: BokehJS loaded, going straight to plotting\");\n",
       "    run_inline_js();\n",
       "  } else {\n",
       "    load_libs(js_urls, function() {\n",
       "      console.log(\"Bokeh: BokehJS plotting callback run at\", now());\n",
       "      run_inline_js();\n",
       "    });\n",
       "  }\n",
       "}(window));"
      ],
      "application/vnd.bokehjs_load.v0+json": "\n(function(root) {\n  function now() {\n    return new Date();\n  }\n\n  var force = true;\n\n  if (typeof (root._bokeh_onload_callbacks) === \"undefined\" || force === true) {\n    root._bokeh_onload_callbacks = [];\n    root._bokeh_is_loading = undefined;\n  }\n\n  \n\n  \n  if (typeof (root._bokeh_timeout) === \"undefined\" || force === true) {\n    root._bokeh_timeout = Date.now() + 5000;\n    root._bokeh_failed_load = false;\n  }\n\n  var NB_LOAD_WARNING = {'data': {'text/html':\n     \"<div style='background-color: #fdd'>\\n\"+\n     \"<p>\\n\"+\n     \"BokehJS does not appear to have successfully loaded. If loading BokehJS from CDN, this \\n\"+\n     \"may be due to a slow or bad network connection. Possible fixes:\\n\"+\n     \"</p>\\n\"+\n     \"<ul>\\n\"+\n     \"<li>re-rerun `output_notebook()` to attempt to load from CDN again, or</li>\\n\"+\n     \"<li>use INLINE resources instead, as so:</li>\\n\"+\n     \"</ul>\\n\"+\n     \"<code>\\n\"+\n     \"from bokeh.resources import INLINE\\n\"+\n     \"output_notebook(resources=INLINE)\\n\"+\n     \"</code>\\n\"+\n     \"</div>\"}};\n\n  function display_loaded() {\n    var el = document.getElementById(\"1b67ebae-bfe1-48fb-98ea-ac2ca4b5c8d9\");\n    if (el != null) {\n      el.textContent = \"BokehJS is loading...\";\n    }\n    if (root.Bokeh !== undefined) {\n      if (el != null) {\n        el.textContent = \"BokehJS \" + root.Bokeh.version + \" successfully loaded.\";\n      }\n    } else if (Date.now() < root._bokeh_timeout) {\n      setTimeout(display_loaded, 100)\n    }\n  }\n\n\n  function run_callbacks() {\n    try {\n      root._bokeh_onload_callbacks.forEach(function(callback) { callback() });\n    }\n    finally {\n      delete root._bokeh_onload_callbacks\n    }\n    console.info(\"Bokeh: all callbacks have finished\");\n  }\n\n  function load_libs(js_urls, callback) {\n    root._bokeh_onload_callbacks.push(callback);\n    if (root._bokeh_is_loading > 0) {\n      console.log(\"Bokeh: BokehJS is being loaded, scheduling callback at\", now());\n      return null;\n    }\n    if (js_urls == null || js_urls.length === 0) {\n      run_callbacks();\n      return null;\n    }\n    console.log(\"Bokeh: BokehJS not loaded, scheduling load and callback at\", now());\n    root._bokeh_is_loading = js_urls.length;\n    for (var i = 0; i < js_urls.length; i++) {\n      var url = js_urls[i];\n      var s = document.createElement('script');\n      s.src = url;\n      s.async = false;\n      s.onreadystatechange = s.onload = function() {\n        root._bokeh_is_loading--;\n        if (root._bokeh_is_loading === 0) {\n          console.log(\"Bokeh: all BokehJS libraries loaded\");\n          run_callbacks()\n        }\n      };\n      s.onerror = function() {\n        console.warn(\"failed to load library \" + url);\n      };\n      console.log(\"Bokeh: injecting script tag for BokehJS library: \", url);\n      document.getElementsByTagName(\"head\")[0].appendChild(s);\n    }\n  };var element = document.getElementById(\"1b67ebae-bfe1-48fb-98ea-ac2ca4b5c8d9\");\n  if (element == null) {\n    console.log(\"Bokeh: ERROR: autoload.js configured with elementid '1b67ebae-bfe1-48fb-98ea-ac2ca4b5c8d9' but no matching script tag was found. \")\n    return false;\n  }\n\n  var js_urls = [\"https://cdn.pydata.org/bokeh/release/bokeh-0.12.16.min.js\", \"https://cdn.pydata.org/bokeh/release/bokeh-widgets-0.12.16.min.js\", \"https://cdn.pydata.org/bokeh/release/bokeh-tables-0.12.16.min.js\", \"https://cdn.pydata.org/bokeh/release/bokeh-gl-0.12.16.min.js\"];\n\n  var inline_js = [\n    function(Bokeh) {\n      Bokeh.set_log_level(\"info\");\n    },\n    \n    function(Bokeh) {\n      \n    },\n    function(Bokeh) {\n      console.log(\"Bokeh: injecting CSS: https://cdn.pydata.org/bokeh/release/bokeh-0.12.16.min.css\");\n      Bokeh.embed.inject_css(\"https://cdn.pydata.org/bokeh/release/bokeh-0.12.16.min.css\");\n      console.log(\"Bokeh: injecting CSS: https://cdn.pydata.org/bokeh/release/bokeh-widgets-0.12.16.min.css\");\n      Bokeh.embed.inject_css(\"https://cdn.pydata.org/bokeh/release/bokeh-widgets-0.12.16.min.css\");\n      console.log(\"Bokeh: injecting CSS: https://cdn.pydata.org/bokeh/release/bokeh-tables-0.12.16.min.css\");\n      Bokeh.embed.inject_css(\"https://cdn.pydata.org/bokeh/release/bokeh-tables-0.12.16.min.css\");\n    }\n  ];\n\n  function run_inline_js() {\n    \n    if ((root.Bokeh !== undefined) || (force === true)) {\n      for (var i = 0; i < inline_js.length; i++) {\n        inline_js[i].call(root, root.Bokeh);\n      }if (force === true) {\n        display_loaded();\n      }} else if (Date.now() < root._bokeh_timeout) {\n      setTimeout(run_inline_js, 100);\n    } else if (!root._bokeh_failed_load) {\n      console.log(\"Bokeh: BokehJS failed to load within specified timeout.\");\n      root._bokeh_failed_load = true;\n    } else if (force !== true) {\n      var cell = $(document.getElementById(\"1b67ebae-bfe1-48fb-98ea-ac2ca4b5c8d9\")).parents('.cell').data().cell;\n      cell.output_area.append_execute_result(NB_LOAD_WARNING)\n    }\n\n  }\n\n  if (root._bokeh_is_loading === 0) {\n    console.log(\"Bokeh: BokehJS loaded, going straight to plotting\");\n    run_inline_js();\n  } else {\n    load_libs(js_urls, function() {\n      console.log(\"Bokeh: BokehJS plotting callback run at\", now());\n      run_inline_js();\n    });\n  }\n}(window));"
     },
     "metadata": {},
     "output_type": "display_data"
    }
   ],
   "source": [
    "output_notebook()"
   ]
  },
  {
   "cell_type": "markdown",
   "metadata": {},
   "source": [
    "## 基本的な散布図"
   ]
  },
  {
   "cell_type": "code",
   "execution_count": 3,
   "metadata": {},
   "outputs": [
    {
     "data": {
      "text/html": [
       "\n",
       "<div class=\"bk-root\">\n",
       "    <div class=\"bk-plotdiv\" id=\"038fcc3e-3e10-4ab9-9757-90d5bc0a055b\"></div>\n",
       "</div>"
      ]
     },
     "metadata": {},
     "output_type": "display_data"
    },
    {
     "data": {
      "application/javascript": [
       "(function(root) {\n",
       "  function embed_document(root) {\n",
       "    \n",
       "  var docs_json = {\"ad8cd681-acec-461d-8a22-26781f85c81b\":{\"roots\":{\"references\":[{\"attributes\":{\"fill_alpha\":{\"value\":0.5},\"fill_color\":{\"value\":\"orange\"},\"line_color\":{\"value\":\"navy\"},\"size\":{\"units\":\"screen\",\"value\":15},\"x\":{\"field\":\"x\"},\"y\":{\"field\":\"y\"}},\"id\":\"0192220d-c28b-4d98-b49d-e211089b036f\",\"type\":\"Circle\"},{\"attributes\":{},\"id\":\"3a97411d-f9aa-434c-8647-d02eadb781c4\",\"type\":\"LinearScale\"},{\"attributes\":{\"bottom_units\":\"screen\",\"fill_alpha\":{\"value\":0.5},\"fill_color\":{\"value\":\"lightgrey\"},\"left_units\":\"screen\",\"level\":\"overlay\",\"line_alpha\":{\"value\":1.0},\"line_color\":{\"value\":\"black\"},\"line_dash\":[4,4],\"line_width\":{\"value\":2},\"plot\":null,\"render_mode\":\"css\",\"right_units\":\"screen\",\"top_units\":\"screen\"},\"id\":\"8a9b65e9-2dc7-4658-b661-5691aedd172b\",\"type\":\"BoxAnnotation\"},{\"attributes\":{},\"id\":\"de1161e1-a116-480a-8ef4-c76d8485963d\",\"type\":\"LinearScale\"},{\"attributes\":{},\"id\":\"cc64aa42-495b-4813-aca1-ca1893228563\",\"type\":\"HelpTool\"},{\"attributes\":{},\"id\":\"c33c45ea-85a4-4d88-9400-a94b7f095870\",\"type\":\"BasicTickFormatter\"},{\"attributes\":{\"formatter\":{\"id\":\"c33c45ea-85a4-4d88-9400-a94b7f095870\",\"type\":\"BasicTickFormatter\"},\"plot\":{\"id\":\"6b30e832-5411-4423-b74b-a1ef80589b40\",\"subtype\":\"Figure\",\"type\":\"Plot\"},\"ticker\":{\"id\":\"4647379d-8284-48e1-a6db-7dd6f9eebde5\",\"type\":\"BasicTicker\"}},\"id\":\"157e6124-dfa3-4cf1-9f3c-8f2a4303b331\",\"type\":\"LinearAxis\"},{\"attributes\":{\"data_source\":{\"id\":\"f8164263-559c-4904-bfa9-6a1d4dfc1179\",\"type\":\"ColumnDataSource\"},\"glyph\":{\"id\":\"0192220d-c28b-4d98-b49d-e211089b036f\",\"type\":\"Circle\"},\"hover_glyph\":null,\"muted_glyph\":null,\"nonselection_glyph\":{\"id\":\"7d6d9061-aec1-4465-b226-e12c50fc8548\",\"type\":\"Circle\"},\"selection_glyph\":null,\"view\":{\"id\":\"5c2ff7a6-6e22-4404-ac6e-ba2b49e54014\",\"type\":\"CDSView\"}},\"id\":\"684819e9-8393-4bc3-a26a-d92f548aa901\",\"type\":\"GlyphRenderer\"},{\"attributes\":{},\"id\":\"4647379d-8284-48e1-a6db-7dd6f9eebde5\",\"type\":\"BasicTicker\"},{\"attributes\":{\"plot\":{\"id\":\"6b30e832-5411-4423-b74b-a1ef80589b40\",\"subtype\":\"Figure\",\"type\":\"Plot\"},\"ticker\":{\"id\":\"4647379d-8284-48e1-a6db-7dd6f9eebde5\",\"type\":\"BasicTicker\"}},\"id\":\"27dc529e-0fac-44e1-9044-d778a38911fb\",\"type\":\"Grid\"},{\"attributes\":{\"formatter\":{\"id\":\"405ec050-789b-4850-9451-f7cd8dbaceab\",\"type\":\"BasicTickFormatter\"},\"plot\":{\"id\":\"6b30e832-5411-4423-b74b-a1ef80589b40\",\"subtype\":\"Figure\",\"type\":\"Plot\"},\"ticker\":{\"id\":\"ec4e9599-509d-4d51-8854-f086b132e483\",\"type\":\"BasicTicker\"}},\"id\":\"879cc8b9-b907-473d-9fbf-1033425a2b96\",\"type\":\"LinearAxis\"},{\"attributes\":{},\"id\":\"ec4e9599-509d-4d51-8854-f086b132e483\",\"type\":\"BasicTicker\"},{\"attributes\":{\"dimension\":1,\"plot\":{\"id\":\"6b30e832-5411-4423-b74b-a1ef80589b40\",\"subtype\":\"Figure\",\"type\":\"Plot\"},\"ticker\":{\"id\":\"ec4e9599-509d-4d51-8854-f086b132e483\",\"type\":\"BasicTicker\"}},\"id\":\"da672562-c67a-4997-83ee-b93cfe362933\",\"type\":\"Grid\"},{\"attributes\":{},\"id\":\"5243cc9e-de0d-4838-bcb9-448a69da33e4\",\"type\":\"Selection\"},{\"attributes\":{\"fill_alpha\":{\"value\":0.1},\"fill_color\":{\"value\":\"#1f77b4\"},\"line_alpha\":{\"value\":0.1},\"line_color\":{\"value\":\"#1f77b4\"},\"size\":{\"units\":\"screen\",\"value\":15},\"x\":{\"field\":\"x\"},\"y\":{\"field\":\"y\"}},\"id\":\"7d6d9061-aec1-4465-b226-e12c50fc8548\",\"type\":\"Circle\"},{\"attributes\":{},\"id\":\"4ec90fc9-6a0a-4606-99e5-7fb36599648e\",\"type\":\"UnionRenderers\"},{\"attributes\":{\"source\":{\"id\":\"f8164263-559c-4904-bfa9-6a1d4dfc1179\",\"type\":\"ColumnDataSource\"}},\"id\":\"5c2ff7a6-6e22-4404-ac6e-ba2b49e54014\",\"type\":\"CDSView\"},{\"attributes\":{\"below\":[{\"id\":\"157e6124-dfa3-4cf1-9f3c-8f2a4303b331\",\"type\":\"LinearAxis\"}],\"left\":[{\"id\":\"879cc8b9-b907-473d-9fbf-1033425a2b96\",\"type\":\"LinearAxis\"}],\"plot_height\":200,\"plot_width\":200,\"renderers\":[{\"id\":\"157e6124-dfa3-4cf1-9f3c-8f2a4303b331\",\"type\":\"LinearAxis\"},{\"id\":\"27dc529e-0fac-44e1-9044-d778a38911fb\",\"type\":\"Grid\"},{\"id\":\"879cc8b9-b907-473d-9fbf-1033425a2b96\",\"type\":\"LinearAxis\"},{\"id\":\"da672562-c67a-4997-83ee-b93cfe362933\",\"type\":\"Grid\"},{\"id\":\"8a9b65e9-2dc7-4658-b661-5691aedd172b\",\"type\":\"BoxAnnotation\"},{\"id\":\"684819e9-8393-4bc3-a26a-d92f548aa901\",\"type\":\"GlyphRenderer\"}],\"title\":{\"id\":\"070fe13a-ca1f-4996-8577-2047a41b8c74\",\"type\":\"Title\"},\"toolbar\":{\"id\":\"9717be11-89bd-4957-8891-52cd2b077716\",\"type\":\"Toolbar\"},\"x_range\":{\"id\":\"cfd6b3e6-a138-4852-886c-3b975656e123\",\"type\":\"DataRange1d\"},\"x_scale\":{\"id\":\"3a97411d-f9aa-434c-8647-d02eadb781c4\",\"type\":\"LinearScale\"},\"y_range\":{\"id\":\"a3b570b0-c793-4a80-aa0e-6d2cc7ccbfa8\",\"type\":\"DataRange1d\"},\"y_scale\":{\"id\":\"de1161e1-a116-480a-8ef4-c76d8485963d\",\"type\":\"LinearScale\"}},\"id\":\"6b30e832-5411-4423-b74b-a1ef80589b40\",\"subtype\":\"Figure\",\"type\":\"Plot\"},{\"attributes\":{\"plot\":null,\"text\":\"\"},\"id\":\"070fe13a-ca1f-4996-8577-2047a41b8c74\",\"type\":\"Title\"},{\"attributes\":{\"callback\":null,\"data\":{\"x\":[1,2,3,4,5],\"y\":[6,7,2,4,5]},\"selected\":{\"id\":\"5243cc9e-de0d-4838-bcb9-448a69da33e4\",\"type\":\"Selection\"},\"selection_policy\":{\"id\":\"4ec90fc9-6a0a-4606-99e5-7fb36599648e\",\"type\":\"UnionRenderers\"}},\"id\":\"f8164263-559c-4904-bfa9-6a1d4dfc1179\",\"type\":\"ColumnDataSource\"},{\"attributes\":{},\"id\":\"82bddf2f-4c3f-46f4-9a10-f358927b274a\",\"type\":\"PanTool\"},{\"attributes\":{},\"id\":\"4aed9a39-88a6-483f-b6b8-d4060773ac0b\",\"type\":\"ResetTool\"},{\"attributes\":{\"active_drag\":\"auto\",\"active_inspect\":\"auto\",\"active_scroll\":\"auto\",\"active_tap\":\"auto\",\"tools\":[{\"id\":\"82bddf2f-4c3f-46f4-9a10-f358927b274a\",\"type\":\"PanTool\"},{\"id\":\"0225c57b-1663-419b-aea2-dad8a88a6d51\",\"type\":\"WheelZoomTool\"},{\"id\":\"2f07d174-e4eb-47ae-89d2-1980c3823b55\",\"type\":\"BoxZoomTool\"},{\"id\":\"7713bc5d-7e7b-4306-8d9b-ce4bb0e96ac0\",\"type\":\"SaveTool\"},{\"id\":\"4aed9a39-88a6-483f-b6b8-d4060773ac0b\",\"type\":\"ResetTool\"},{\"id\":\"cc64aa42-495b-4813-aca1-ca1893228563\",\"type\":\"HelpTool\"}]},\"id\":\"9717be11-89bd-4957-8891-52cd2b077716\",\"type\":\"Toolbar\"},{\"attributes\":{},\"id\":\"0225c57b-1663-419b-aea2-dad8a88a6d51\",\"type\":\"WheelZoomTool\"},{\"attributes\":{\"callback\":null},\"id\":\"cfd6b3e6-a138-4852-886c-3b975656e123\",\"type\":\"DataRange1d\"},{\"attributes\":{\"overlay\":{\"id\":\"8a9b65e9-2dc7-4658-b661-5691aedd172b\",\"type\":\"BoxAnnotation\"}},\"id\":\"2f07d174-e4eb-47ae-89d2-1980c3823b55\",\"type\":\"BoxZoomTool\"},{\"attributes\":{},\"id\":\"405ec050-789b-4850-9451-f7cd8dbaceab\",\"type\":\"BasicTickFormatter\"},{\"attributes\":{},\"id\":\"7713bc5d-7e7b-4306-8d9b-ce4bb0e96ac0\",\"type\":\"SaveTool\"},{\"attributes\":{\"callback\":null},\"id\":\"a3b570b0-c793-4a80-aa0e-6d2cc7ccbfa8\",\"type\":\"DataRange1d\"}],\"root_ids\":[\"6b30e832-5411-4423-b74b-a1ef80589b40\"]},\"title\":\"Bokeh Application\",\"version\":\"0.12.16\"}};\n",
       "  var render_items = [{\"docid\":\"ad8cd681-acec-461d-8a22-26781f85c81b\",\"elementid\":\"038fcc3e-3e10-4ab9-9757-90d5bc0a055b\",\"modelid\":\"6b30e832-5411-4423-b74b-a1ef80589b40\"}];\n",
       "  root.Bokeh.embed.embed_items_notebook(docs_json, render_items);\n",
       "\n",
       "  }\n",
       "  if (root.Bokeh !== undefined) {\n",
       "    embed_document(root);\n",
       "  } else {\n",
       "    var attempts = 0;\n",
       "    var timer = setInterval(function(root) {\n",
       "      if (root.Bokeh !== undefined) {\n",
       "        embed_document(root);\n",
       "        clearInterval(timer);\n",
       "      }\n",
       "      attempts++;\n",
       "      if (attempts > 100) {\n",
       "        console.log(\"Bokeh: ERROR: Unable to run BokehJS code because BokehJS library is missing\")\n",
       "        clearInterval(timer);\n",
       "      }\n",
       "    }, 10, root)\n",
       "  }\n",
       "})(window);"
      ],
      "application/vnd.bokehjs_exec.v0+json": ""
     },
     "metadata": {
      "application/vnd.bokehjs_exec.v0+json": {
       "id": "6b30e832-5411-4423-b74b-a1ef80589b40"
      }
     },
     "output_type": "display_data"
    }
   ],
   "source": [
    "# figure() で plot を作る\n",
    "p = figure(plot_width=200, plot_height=200)\n",
    "\n",
    "# circle renderer を追加する\n",
    "p.circle(\n",
    "    [1, 2, 3, 4, 5],\n",
    "    [6, 7, 2, 4, 5],\n",
    "    size=15,\n",
    "    line_color=\"navy\",\n",
    "    fill_color=\"orange\",\n",
    "    fill_alpha=0.5\n",
    ")\n",
    "\n",
    "show(p) # 表示する"
   ]
  },
  {
   "cell_type": "markdown",
   "metadata": {},
   "source": [
    "marker には下記が使える．\n",
    "\n",
    "- asterisk()\n",
    "- circle()\n",
    "- circle_cross()\n",
    "- circle_x()\n",
    "- cross()\n",
    "- diamond()\n",
    "- diamond_cross()\n",
    "- inverted_triangle()\n",
    "- square()\n",
    "- square_cross()\n",
    "- square_x()\n",
    "- triangle()\n",
    "- x()"
   ]
  },
  {
   "cell_type": "code",
   "execution_count": 4,
   "metadata": {},
   "outputs": [
    {
     "data": {
      "text/html": [
       "\n",
       "<div class=\"bk-root\">\n",
       "    <div class=\"bk-plotdiv\" id=\"c09fd9b1-ff95-4f36-bf02-e24ff2ff3f4a\"></div>\n",
       "</div>"
      ]
     },
     "metadata": {},
     "output_type": "display_data"
    },
    {
     "data": {
      "application/javascript": [
       "(function(root) {\n",
       "  function embed_document(root) {\n",
       "    \n",
       "  var docs_json = {\"3d2c60ed-43a0-42ce-b79c-6a0c46cc9131\":{\"roots\":{\"references\":[{\"attributes\":{\"active_drag\":\"auto\",\"active_inspect\":\"auto\",\"active_scroll\":\"auto\",\"active_tap\":\"auto\",\"tools\":[{\"id\":\"c69340ef-3ece-48af-814a-0dc6718a5f9a\",\"type\":\"PanTool\"},{\"id\":\"5e32d8f2-7c97-41a1-8b95-2eb4299b8970\",\"type\":\"WheelZoomTool\"},{\"id\":\"d671115a-e623-4a0b-8f52-6ba5850fa851\",\"type\":\"BoxZoomTool\"},{\"id\":\"4db4c5ed-7d70-49ff-b6a8-276b00d48f3c\",\"type\":\"SaveTool\"},{\"id\":\"fb94fe9c-2b82-4eaa-9f71-a9780a747acf\",\"type\":\"ResetTool\"},{\"id\":\"70784624-a5db-4806-97fa-37eca9c4b2fa\",\"type\":\"HelpTool\"}]},\"id\":\"1b0d61a6-ab07-47e8-9fe5-dc3d85b04fc8\",\"type\":\"Toolbar\"},{\"attributes\":{},\"id\":\"68083fcb-7c37-4502-b58f-43168bba9ed6\",\"type\":\"UnionRenderers\"},{\"attributes\":{\"data_source\":{\"id\":\"654f47cc-e91e-4ab0-bd75-2d0016f60a79\",\"type\":\"ColumnDataSource\"},\"glyph\":{\"id\":\"0d3c629e-aa6c-426a-ba83-ac70848dc709\",\"type\":\"CircleX\"},\"hover_glyph\":null,\"muted_glyph\":null,\"nonselection_glyph\":{\"id\":\"2c10ce2f-d647-4c2a-a420-a72be0c83ad4\",\"type\":\"CircleX\"},\"selection_glyph\":null,\"view\":{\"id\":\"29ae7214-cb71-4cf3-aa4a-bcb6adaf0a94\",\"type\":\"CDSView\"}},\"id\":\"8549a1c6-28e0-485a-bc2e-7d07fc3e21d7\",\"type\":\"GlyphRenderer\"},{\"attributes\":{\"callback\":null,\"data\":{\"x\":[1,2,3,4,5],\"y\":[1,3,7,9,4]},\"selected\":{\"id\":\"4b817692-399c-443e-9086-9ff08ed4de48\",\"type\":\"Selection\"},\"selection_policy\":{\"id\":\"c538eacb-362f-43dd-8cb0-d3608a363fef\",\"type\":\"UnionRenderers\"}},\"id\":\"654f47cc-e91e-4ab0-bd75-2d0016f60a79\",\"type\":\"ColumnDataSource\"},{\"attributes\":{},\"id\":\"4db4c5ed-7d70-49ff-b6a8-276b00d48f3c\",\"type\":\"SaveTool\"},{\"attributes\":{},\"id\":\"c538eacb-362f-43dd-8cb0-d3608a363fef\",\"type\":\"UnionRenderers\"},{\"attributes\":{\"source\":{\"id\":\"57733a09-0f65-437d-97a2-480102b076bc\",\"type\":\"ColumnDataSource\"}},\"id\":\"12311709-9ee1-444b-8f33-1f80354fb1e2\",\"type\":\"CDSView\"},{\"attributes\":{},\"id\":\"5623f68f-d9e0-413d-b3e6-823492135716\",\"type\":\"Selection\"},{\"attributes\":{},\"id\":\"5c08ded6-a9d2-42c2-8e2b-b0f231744ddf\",\"type\":\"BasicTickFormatter\"},{\"attributes\":{},\"id\":\"4b817692-399c-443e-9086-9ff08ed4de48\",\"type\":\"Selection\"},{\"attributes\":{\"below\":[{\"id\":\"e2bbde85-c595-4957-b030-cb025894fe9b\",\"type\":\"LinearAxis\"}],\"left\":[{\"id\":\"9e70766a-fc9d-4fed-905e-24bb52c4083c\",\"type\":\"LinearAxis\"}],\"plot_height\":200,\"plot_width\":200,\"renderers\":[{\"id\":\"e2bbde85-c595-4957-b030-cb025894fe9b\",\"type\":\"LinearAxis\"},{\"id\":\"187374fc-0ac6-47c9-9525-77e7bef77d39\",\"type\":\"Grid\"},{\"id\":\"9e70766a-fc9d-4fed-905e-24bb52c4083c\",\"type\":\"LinearAxis\"},{\"id\":\"7ff6f646-712c-4913-8222-0e9462a30244\",\"type\":\"Grid\"},{\"id\":\"84231297-055e-45ae-beb5-2db49eb8ac66\",\"type\":\"BoxAnnotation\"},{\"id\":\"7bc4b77f-ac20-4c97-a333-4e55e1ad140f\",\"type\":\"GlyphRenderer\"},{\"id\":\"8549a1c6-28e0-485a-bc2e-7d07fc3e21d7\",\"type\":\"GlyphRenderer\"}],\"title\":{\"id\":\"356ac9f2-5c58-4b5b-b0b6-3e4f208f5c7f\",\"type\":\"Title\"},\"toolbar\":{\"id\":\"1b0d61a6-ab07-47e8-9fe5-dc3d85b04fc8\",\"type\":\"Toolbar\"},\"x_range\":{\"id\":\"aa3d90e1-1398-4ca5-aa0a-d3afaed3f120\",\"type\":\"DataRange1d\"},\"x_scale\":{\"id\":\"fb91057b-5ad8-4732-ae9a-e7de5943cecb\",\"type\":\"LinearScale\"},\"y_range\":{\"id\":\"38580d28-7440-4d23-a013-39e7db8a9284\",\"type\":\"DataRange1d\"},\"y_scale\":{\"id\":\"912bad56-1fb4-4f2f-8ffa-b92b7d85269a\",\"type\":\"LinearScale\"}},\"id\":\"85864cdb-b948-4557-a9f0-4c1b68bf34ab\",\"subtype\":\"Figure\",\"type\":\"Plot\"},{\"attributes\":{\"callback\":null,\"data\":{\"x\":[1,2,3,4,5],\"y\":[6,7,2,4,5]},\"selected\":{\"id\":\"5623f68f-d9e0-413d-b3e6-823492135716\",\"type\":\"Selection\"},\"selection_policy\":{\"id\":\"68083fcb-7c37-4502-b58f-43168bba9ed6\",\"type\":\"UnionRenderers\"}},\"id\":\"57733a09-0f65-437d-97a2-480102b076bc\",\"type\":\"ColumnDataSource\"},{\"attributes\":{\"plot\":null,\"text\":\"\"},\"id\":\"356ac9f2-5c58-4b5b-b0b6-3e4f208f5c7f\",\"type\":\"Title\"},{\"attributes\":{\"callback\":null},\"id\":\"aa3d90e1-1398-4ca5-aa0a-d3afaed3f120\",\"type\":\"DataRange1d\"},{\"attributes\":{},\"id\":\"f5b9660d-d3e9-415b-a6cc-5cd6f857fcd9\",\"type\":\"BasicTickFormatter\"},{\"attributes\":{\"data_source\":{\"id\":\"57733a09-0f65-437d-97a2-480102b076bc\",\"type\":\"ColumnDataSource\"},\"glyph\":{\"id\":\"50496eea-4373-4fe1-afbf-c2a4751bc39b\",\"type\":\"CircleCross\"},\"hover_glyph\":null,\"muted_glyph\":null,\"nonselection_glyph\":{\"id\":\"c8ba232f-4754-4fec-9d7c-2ac991738647\",\"type\":\"CircleCross\"},\"selection_glyph\":null,\"view\":{\"id\":\"12311709-9ee1-444b-8f33-1f80354fb1e2\",\"type\":\"CDSView\"}},\"id\":\"7bc4b77f-ac20-4c97-a333-4e55e1ad140f\",\"type\":\"GlyphRenderer\"},{\"attributes\":{},\"id\":\"912bad56-1fb4-4f2f-8ffa-b92b7d85269a\",\"type\":\"LinearScale\"},{\"attributes\":{\"fill_alpha\":{\"value\":0.1},\"fill_color\":{\"value\":\"#1f77b4\"},\"line_alpha\":{\"value\":0.1},\"line_color\":{\"value\":\"#1f77b4\"},\"size\":{\"units\":\"screen\",\"value\":15},\"x\":{\"field\":\"x\"},\"y\":{\"field\":\"y\"}},\"id\":\"2c10ce2f-d647-4c2a-a420-a72be0c83ad4\",\"type\":\"CircleX\"},{\"attributes\":{},\"id\":\"fb91057b-5ad8-4732-ae9a-e7de5943cecb\",\"type\":\"LinearScale\"},{\"attributes\":{\"callback\":null},\"id\":\"38580d28-7440-4d23-a013-39e7db8a9284\",\"type\":\"DataRange1d\"},{\"attributes\":{\"fill_alpha\":{\"value\":0.5},\"fill_color\":{\"value\":\"orange\"},\"line_color\":{\"value\":\"navy\"},\"size\":{\"units\":\"screen\",\"value\":15},\"x\":{\"field\":\"x\"},\"y\":{\"field\":\"y\"}},\"id\":\"0d3c629e-aa6c-426a-ba83-ac70848dc709\",\"type\":\"CircleX\"},{\"attributes\":{\"fill_alpha\":{\"value\":0.5},\"fill_color\":{\"value\":\"purple\"},\"line_color\":{\"value\":\"navy\"},\"size\":{\"units\":\"screen\",\"value\":15},\"x\":{\"field\":\"x\"},\"y\":{\"field\":\"y\"}},\"id\":\"50496eea-4373-4fe1-afbf-c2a4751bc39b\",\"type\":\"CircleCross\"},{\"attributes\":{\"formatter\":{\"id\":\"5c08ded6-a9d2-42c2-8e2b-b0f231744ddf\",\"type\":\"BasicTickFormatter\"},\"plot\":{\"id\":\"85864cdb-b948-4557-a9f0-4c1b68bf34ab\",\"subtype\":\"Figure\",\"type\":\"Plot\"},\"ticker\":{\"id\":\"993d4cdd-476f-4e06-82de-4ad72c02c899\",\"type\":\"BasicTicker\"}},\"id\":\"e2bbde85-c595-4957-b030-cb025894fe9b\",\"type\":\"LinearAxis\"},{\"attributes\":{\"plot\":{\"id\":\"85864cdb-b948-4557-a9f0-4c1b68bf34ab\",\"subtype\":\"Figure\",\"type\":\"Plot\"},\"ticker\":{\"id\":\"993d4cdd-476f-4e06-82de-4ad72c02c899\",\"type\":\"BasicTicker\"}},\"id\":\"187374fc-0ac6-47c9-9525-77e7bef77d39\",\"type\":\"Grid\"},{\"attributes\":{\"source\":{\"id\":\"654f47cc-e91e-4ab0-bd75-2d0016f60a79\",\"type\":\"ColumnDataSource\"}},\"id\":\"29ae7214-cb71-4cf3-aa4a-bcb6adaf0a94\",\"type\":\"CDSView\"},{\"attributes\":{},\"id\":\"fb94fe9c-2b82-4eaa-9f71-a9780a747acf\",\"type\":\"ResetTool\"},{\"attributes\":{},\"id\":\"70784624-a5db-4806-97fa-37eca9c4b2fa\",\"type\":\"HelpTool\"},{\"attributes\":{\"overlay\":{\"id\":\"84231297-055e-45ae-beb5-2db49eb8ac66\",\"type\":\"BoxAnnotation\"}},\"id\":\"d671115a-e623-4a0b-8f52-6ba5850fa851\",\"type\":\"BoxZoomTool\"},{\"attributes\":{\"fill_alpha\":{\"value\":0.1},\"fill_color\":{\"value\":\"#1f77b4\"},\"line_alpha\":{\"value\":0.1},\"line_color\":{\"value\":\"#1f77b4\"},\"size\":{\"units\":\"screen\",\"value\":15},\"x\":{\"field\":\"x\"},\"y\":{\"field\":\"y\"}},\"id\":\"c8ba232f-4754-4fec-9d7c-2ac991738647\",\"type\":\"CircleCross\"},{\"attributes\":{},\"id\":\"5e32d8f2-7c97-41a1-8b95-2eb4299b8970\",\"type\":\"WheelZoomTool\"},{\"attributes\":{},\"id\":\"c69340ef-3ece-48af-814a-0dc6718a5f9a\",\"type\":\"PanTool\"},{\"attributes\":{\"bottom_units\":\"screen\",\"fill_alpha\":{\"value\":0.5},\"fill_color\":{\"value\":\"lightgrey\"},\"left_units\":\"screen\",\"level\":\"overlay\",\"line_alpha\":{\"value\":1.0},\"line_color\":{\"value\":\"black\"},\"line_dash\":[4,4],\"line_width\":{\"value\":2},\"plot\":null,\"render_mode\":\"css\",\"right_units\":\"screen\",\"top_units\":\"screen\"},\"id\":\"84231297-055e-45ae-beb5-2db49eb8ac66\",\"type\":\"BoxAnnotation\"},{\"attributes\":{},\"id\":\"993d4cdd-476f-4e06-82de-4ad72c02c899\",\"type\":\"BasicTicker\"},{\"attributes\":{\"formatter\":{\"id\":\"f5b9660d-d3e9-415b-a6cc-5cd6f857fcd9\",\"type\":\"BasicTickFormatter\"},\"plot\":{\"id\":\"85864cdb-b948-4557-a9f0-4c1b68bf34ab\",\"subtype\":\"Figure\",\"type\":\"Plot\"},\"ticker\":{\"id\":\"28d48e6b-a4ab-4374-8609-b84c466270cc\",\"type\":\"BasicTicker\"}},\"id\":\"9e70766a-fc9d-4fed-905e-24bb52c4083c\",\"type\":\"LinearAxis\"},{\"attributes\":{},\"id\":\"28d48e6b-a4ab-4374-8609-b84c466270cc\",\"type\":\"BasicTicker\"},{\"attributes\":{\"dimension\":1,\"plot\":{\"id\":\"85864cdb-b948-4557-a9f0-4c1b68bf34ab\",\"subtype\":\"Figure\",\"type\":\"Plot\"},\"ticker\":{\"id\":\"28d48e6b-a4ab-4374-8609-b84c466270cc\",\"type\":\"BasicTicker\"}},\"id\":\"7ff6f646-712c-4913-8222-0e9462a30244\",\"type\":\"Grid\"}],\"root_ids\":[\"85864cdb-b948-4557-a9f0-4c1b68bf34ab\"]},\"title\":\"Bokeh Application\",\"version\":\"0.12.16\"}};\n",
       "  var render_items = [{\"docid\":\"3d2c60ed-43a0-42ce-b79c-6a0c46cc9131\",\"elementid\":\"c09fd9b1-ff95-4f36-bf02-e24ff2ff3f4a\",\"modelid\":\"85864cdb-b948-4557-a9f0-4c1b68bf34ab\"}];\n",
       "  root.Bokeh.embed.embed_items_notebook(docs_json, render_items);\n",
       "\n",
       "  }\n",
       "  if (root.Bokeh !== undefined) {\n",
       "    embed_document(root);\n",
       "  } else {\n",
       "    var attempts = 0;\n",
       "    var timer = setInterval(function(root) {\n",
       "      if (root.Bokeh !== undefined) {\n",
       "        embed_document(root);\n",
       "        clearInterval(timer);\n",
       "      }\n",
       "      attempts++;\n",
       "      if (attempts > 100) {\n",
       "        console.log(\"Bokeh: ERROR: Unable to run BokehJS code because BokehJS library is missing\")\n",
       "        clearInterval(timer);\n",
       "      }\n",
       "    }, 10, root)\n",
       "  }\n",
       "})(window);"
      ],
      "application/vnd.bokehjs_exec.v0+json": ""
     },
     "metadata": {
      "application/vnd.bokehjs_exec.v0+json": {
       "id": "85864cdb-b948-4557-a9f0-4c1b68bf34ab"
      }
     },
     "output_type": "display_data"
    }
   ],
   "source": [
    "p = figure(plot_width=200, plot_height=200)\n",
    "\n",
    "p.circle_cross(\n",
    "    [1, 2, 3, 4, 5],\n",
    "    [6, 7, 2, 4, 5],\n",
    "    size=15,\n",
    "    line_color=\"navy\",\n",
    "    fill_color=\"purple\",\n",
    "    fill_alpha=0.5\n",
    ")\n",
    "\n",
    "p.circle_x(\n",
    "    [1, 2, 3, 4, 5],\n",
    "    [1, 3, 7, 9, 4],\n",
    "    size=15,\n",
    "    line_color=\"navy\",\n",
    "    fill_color=\"orange\",\n",
    "    fill_alpha=0.5\n",
    ")\n",
    "\n",
    "show(p)"
   ]
  },
  {
   "cell_type": "markdown",
   "metadata": {},
   "source": [
    "## 基本的な折れ線グラフ"
   ]
  },
  {
   "cell_type": "code",
   "execution_count": 5,
   "metadata": {},
   "outputs": [
    {
     "data": {
      "text/html": [
       "\n",
       "<div class=\"bk-root\">\n",
       "    <div class=\"bk-plotdiv\" id=\"81a2d985-71c8-4b7c-b6f7-84fffe126c90\"></div>\n",
       "</div>"
      ]
     },
     "metadata": {},
     "output_type": "display_data"
    },
    {
     "data": {
      "application/javascript": [
       "(function(root) {\n",
       "  function embed_document(root) {\n",
       "    \n",
       "  var docs_json = {\"b480d984-bb5d-40bd-9332-b1a5e8831b2a\":{\"roots\":{\"references\":[{\"attributes\":{\"data_source\":{\"id\":\"60d670b3-79bd-4629-b255-b6b1a2ae27f0\",\"type\":\"ColumnDataSource\"},\"glyph\":{\"id\":\"26f1931f-f03d-4182-9825-8e130f953494\",\"type\":\"Line\"},\"hover_glyph\":null,\"muted_glyph\":null,\"nonselection_glyph\":{\"id\":\"cb7c145b-1255-4e0a-80e2-27f07beb11c0\",\"type\":\"Line\"},\"selection_glyph\":null,\"view\":{\"id\":\"ff19904c-6019-4193-9421-19e1e827a229\",\"type\":\"CDSView\"}},\"id\":\"ff0955b4-769a-4d77-b486-42ac769892ec\",\"type\":\"GlyphRenderer\"},{\"attributes\":{},\"id\":\"ceda728b-5841-4574-9951-6fa346e9aa1f\",\"type\":\"BasicTicker\"},{\"attributes\":{},\"id\":\"e35f960f-7dbc-46c0-87e6-5fc367392a9c\",\"type\":\"BasicTicker\"},{\"attributes\":{\"dimension\":1,\"plot\":{\"id\":\"ac1d28b3-e708-4d97-af03-7105d5a79d1a\",\"subtype\":\"Figure\",\"type\":\"Plot\"},\"ticker\":{\"id\":\"e35f960f-7dbc-46c0-87e6-5fc367392a9c\",\"type\":\"BasicTicker\"}},\"id\":\"f52e61aa-c998-48c6-854e-9acc141bd2b5\",\"type\":\"Grid\"},{\"attributes\":{\"formatter\":{\"id\":\"5126b5b0-8c5b-4ea0-ba30-7b8b30f26648\",\"type\":\"BasicTickFormatter\"},\"plot\":{\"id\":\"ac1d28b3-e708-4d97-af03-7105d5a79d1a\",\"subtype\":\"Figure\",\"type\":\"Plot\"},\"ticker\":{\"id\":\"ceda728b-5841-4574-9951-6fa346e9aa1f\",\"type\":\"BasicTicker\"}},\"id\":\"10dc98f1-2e38-4b40-8aa7-65acc4ad9ead\",\"type\":\"LinearAxis\"},{\"attributes\":{},\"id\":\"b46fc032-0f2e-4819-b982-96851f1db2b5\",\"type\":\"UnionRenderers\"},{\"attributes\":{},\"id\":\"1f2f4499-0ae8-4ec8-87dd-856ccfeac447\",\"type\":\"SaveTool\"},{\"attributes\":{\"active_drag\":\"auto\",\"active_inspect\":\"auto\",\"active_scroll\":\"auto\",\"active_tap\":\"auto\",\"tools\":[{\"id\":\"e5f704a7-b8d4-4ff8-82c0-8ed85b6f549a\",\"type\":\"PanTool\"},{\"id\":\"0262ab06-5dc2-4439-b23c-ec1ab9ef821c\",\"type\":\"WheelZoomTool\"},{\"id\":\"a188b07d-c82a-437a-9e16-6eb8bfab4542\",\"type\":\"BoxZoomTool\"},{\"id\":\"1f2f4499-0ae8-4ec8-87dd-856ccfeac447\",\"type\":\"SaveTool\"},{\"id\":\"ff737823-a125-459a-a386-b03e7097c256\",\"type\":\"ResetTool\"},{\"id\":\"ddb53a1a-c043-4cd5-8522-73658fb7d4fe\",\"type\":\"HelpTool\"}]},\"id\":\"e7699737-7a86-4684-9851-4a90e72e3370\",\"type\":\"Toolbar\"},{\"attributes\":{},\"id\":\"2d832b4a-5d16-43cf-bffc-f35a4b15666a\",\"type\":\"Selection\"},{\"attributes\":{},\"id\":\"517b8462-963b-4e92-b706-d52cd0df425c\",\"type\":\"LinearScale\"},{\"attributes\":{\"below\":[{\"id\":\"10dc98f1-2e38-4b40-8aa7-65acc4ad9ead\",\"type\":\"LinearAxis\"}],\"left\":[{\"id\":\"310d9462-38f4-4095-8f24-24eeb8bb7773\",\"type\":\"LinearAxis\"}],\"plot_height\":200,\"plot_width\":200,\"renderers\":[{\"id\":\"10dc98f1-2e38-4b40-8aa7-65acc4ad9ead\",\"type\":\"LinearAxis\"},{\"id\":\"f6fc9f3e-7fc6-499b-9883-85d1e0af8581\",\"type\":\"Grid\"},{\"id\":\"310d9462-38f4-4095-8f24-24eeb8bb7773\",\"type\":\"LinearAxis\"},{\"id\":\"f52e61aa-c998-48c6-854e-9acc141bd2b5\",\"type\":\"Grid\"},{\"id\":\"56ca831f-900a-40d8-9e1e-0e09918cd62f\",\"type\":\"BoxAnnotation\"},{\"id\":\"ff0955b4-769a-4d77-b486-42ac769892ec\",\"type\":\"GlyphRenderer\"}],\"title\":{\"id\":\"c48736e8-66a4-474e-8719-1e49ac8a7c49\",\"type\":\"Title\"},\"toolbar\":{\"id\":\"e7699737-7a86-4684-9851-4a90e72e3370\",\"type\":\"Toolbar\"},\"x_range\":{\"id\":\"f9776436-e8d5-406a-9f12-c97083e12757\",\"type\":\"DataRange1d\"},\"x_scale\":{\"id\":\"517b8462-963b-4e92-b706-d52cd0df425c\",\"type\":\"LinearScale\"},\"y_range\":{\"id\":\"7cfa47b4-cafd-4ada-8ce4-e6a4ff06a2c8\",\"type\":\"DataRange1d\"},\"y_scale\":{\"id\":\"bc7190d4-4b63-4a6a-903f-d1a598f6c8be\",\"type\":\"LinearScale\"}},\"id\":\"ac1d28b3-e708-4d97-af03-7105d5a79d1a\",\"subtype\":\"Figure\",\"type\":\"Plot\"},{\"attributes\":{},\"id\":\"bc7190d4-4b63-4a6a-903f-d1a598f6c8be\",\"type\":\"LinearScale\"},{\"attributes\":{\"source\":{\"id\":\"60d670b3-79bd-4629-b255-b6b1a2ae27f0\",\"type\":\"ColumnDataSource\"}},\"id\":\"ff19904c-6019-4193-9421-19e1e827a229\",\"type\":\"CDSView\"},{\"attributes\":{},\"id\":\"ddb53a1a-c043-4cd5-8522-73658fb7d4fe\",\"type\":\"HelpTool\"},{\"attributes\":{\"callback\":null},\"id\":\"7cfa47b4-cafd-4ada-8ce4-e6a4ff06a2c8\",\"type\":\"DataRange1d\"},{\"attributes\":{\"overlay\":{\"id\":\"56ca831f-900a-40d8-9e1e-0e09918cd62f\",\"type\":\"BoxAnnotation\"}},\"id\":\"a188b07d-c82a-437a-9e16-6eb8bfab4542\",\"type\":\"BoxZoomTool\"},{\"attributes\":{\"line_alpha\":0.1,\"line_color\":\"#1f77b4\",\"line_width\":2,\"x\":{\"field\":\"x\"},\"y\":{\"field\":\"y\"}},\"id\":\"cb7c145b-1255-4e0a-80e2-27f07beb11c0\",\"type\":\"Line\"},{\"attributes\":{},\"id\":\"ff737823-a125-459a-a386-b03e7097c256\",\"type\":\"ResetTool\"},{\"attributes\":{\"formatter\":{\"id\":\"a3dfb227-71db-4297-b2fb-857965c84d3a\",\"type\":\"BasicTickFormatter\"},\"plot\":{\"id\":\"ac1d28b3-e708-4d97-af03-7105d5a79d1a\",\"subtype\":\"Figure\",\"type\":\"Plot\"},\"ticker\":{\"id\":\"e35f960f-7dbc-46c0-87e6-5fc367392a9c\",\"type\":\"BasicTicker\"}},\"id\":\"310d9462-38f4-4095-8f24-24eeb8bb7773\",\"type\":\"LinearAxis\"},{\"attributes\":{\"bottom_units\":\"screen\",\"fill_alpha\":{\"value\":0.5},\"fill_color\":{\"value\":\"lightgrey\"},\"left_units\":\"screen\",\"level\":\"overlay\",\"line_alpha\":{\"value\":1.0},\"line_color\":{\"value\":\"black\"},\"line_dash\":[4,4],\"line_width\":{\"value\":2},\"plot\":null,\"render_mode\":\"css\",\"right_units\":\"screen\",\"top_units\":\"screen\"},\"id\":\"56ca831f-900a-40d8-9e1e-0e09918cd62f\",\"type\":\"BoxAnnotation\"},{\"attributes\":{\"callback\":null},\"id\":\"f9776436-e8d5-406a-9f12-c97083e12757\",\"type\":\"DataRange1d\"},{\"attributes\":{},\"id\":\"0262ab06-5dc2-4439-b23c-ec1ab9ef821c\",\"type\":\"WheelZoomTool\"},{\"attributes\":{},\"id\":\"e5f704a7-b8d4-4ff8-82c0-8ed85b6f549a\",\"type\":\"PanTool\"},{\"attributes\":{\"plot\":null,\"text\":\"\\u6298\\u308c\\u7dda\\u30b0\\u30e9\\u30d5\"},\"id\":\"c48736e8-66a4-474e-8719-1e49ac8a7c49\",\"type\":\"Title\"},{\"attributes\":{\"callback\":null,\"data\":{\"x\":[1,2,3,4,5],\"y\":[6,7,2,4,5]},\"selected\":{\"id\":\"2d832b4a-5d16-43cf-bffc-f35a4b15666a\",\"type\":\"Selection\"},\"selection_policy\":{\"id\":\"b46fc032-0f2e-4819-b982-96851f1db2b5\",\"type\":\"UnionRenderers\"}},\"id\":\"60d670b3-79bd-4629-b255-b6b1a2ae27f0\",\"type\":\"ColumnDataSource\"},{\"attributes\":{},\"id\":\"5126b5b0-8c5b-4ea0-ba30-7b8b30f26648\",\"type\":\"BasicTickFormatter\"},{\"attributes\":{\"plot\":{\"id\":\"ac1d28b3-e708-4d97-af03-7105d5a79d1a\",\"subtype\":\"Figure\",\"type\":\"Plot\"},\"ticker\":{\"id\":\"ceda728b-5841-4574-9951-6fa346e9aa1f\",\"type\":\"BasicTicker\"}},\"id\":\"f6fc9f3e-7fc6-499b-9883-85d1e0af8581\",\"type\":\"Grid\"},{\"attributes\":{\"line_color\":\"#1f77b4\",\"line_width\":2,\"x\":{\"field\":\"x\"},\"y\":{\"field\":\"y\"}},\"id\":\"26f1931f-f03d-4182-9825-8e130f953494\",\"type\":\"Line\"},{\"attributes\":{},\"id\":\"a3dfb227-71db-4297-b2fb-857965c84d3a\",\"type\":\"BasicTickFormatter\"}],\"root_ids\":[\"ac1d28b3-e708-4d97-af03-7105d5a79d1a\"]},\"title\":\"Bokeh Application\",\"version\":\"0.12.16\"}};\n",
       "  var render_items = [{\"docid\":\"b480d984-bb5d-40bd-9332-b1a5e8831b2a\",\"elementid\":\"81a2d985-71c8-4b7c-b6f7-84fffe126c90\",\"modelid\":\"ac1d28b3-e708-4d97-af03-7105d5a79d1a\"}];\n",
       "  root.Bokeh.embed.embed_items_notebook(docs_json, render_items);\n",
       "\n",
       "  }\n",
       "  if (root.Bokeh !== undefined) {\n",
       "    embed_document(root);\n",
       "  } else {\n",
       "    var attempts = 0;\n",
       "    var timer = setInterval(function(root) {\n",
       "      if (root.Bokeh !== undefined) {\n",
       "        embed_document(root);\n",
       "        clearInterval(timer);\n",
       "      }\n",
       "      attempts++;\n",
       "      if (attempts > 100) {\n",
       "        console.log(\"Bokeh: ERROR: Unable to run BokehJS code because BokehJS library is missing\")\n",
       "        clearInterval(timer);\n",
       "      }\n",
       "    }, 10, root)\n",
       "  }\n",
       "})(window);"
      ],
      "application/vnd.bokehjs_exec.v0+json": ""
     },
     "metadata": {
      "application/vnd.bokehjs_exec.v0+json": {
       "id": "ac1d28b3-e708-4d97-af03-7105d5a79d1a"
      }
     },
     "output_type": "display_data"
    }
   ],
   "source": [
    "p = figure(plot_width=200, plot_height=200, title=\"折れ線グラフ\")\n",
    "\n",
    "p.line([1, 2, 3, 4, 5], [6, 7, 2, 4, 5], line_width=2)\n",
    "\n",
    "show(p)"
   ]
  }
 ],
 "metadata": {
  "kernelspec": {
   "display_name": "Python 3",
   "language": "python",
   "name": "python3"
  },
  "language_info": {
   "codemirror_mode": {
    "name": "ipython",
    "version": 3
   },
   "file_extension": ".py",
   "mimetype": "text/x-python",
   "name": "python",
   "nbconvert_exporter": "python",
   "pygments_lexer": "ipython3",
   "version": "3.6.6"
  }
 },
 "nbformat": 4,
 "nbformat_minor": 2
}
